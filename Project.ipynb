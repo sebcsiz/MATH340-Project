{
 "cells": [
  {
   "cell_type": "code",
   "execution_count": 24,
   "id": "5ac578ec-9487-4ab9-a060-41b8a6417c0b",
   "metadata": {},
   "outputs": [],
   "source": [
    "import sys"
   ]
  },
  {
   "cell_type": "code",
   "execution_count": 25,
   "id": "8b3d5018-e8e2-4984-91ed-44cc27cc2847",
   "metadata": {},
   "outputs": [
    {
     "name": "stdout",
     "output_type": "stream",
     "text": [
      "/bin/bash: line 1: if/opt/conda/bin/python: No such file or directory\n"
     ]
    }
   ],
   "source": [
    "!if{sys.executable} -m pip install pulp"
   ]
  },
  {
   "cell_type": "code",
   "execution_count": 26,
   "id": "a92d599c-9177-42fa-b358-76cc7f74945c",
   "metadata": {},
   "outputs": [],
   "source": [
    "import pulp"
   ]
  },
  {
   "cell_type": "markdown",
   "id": "ca4c4d11-570c-4fd9-9733-600967c35d2e",
   "metadata": {},
   "source": [
    "## Creating LP Problem"
   ]
  },
  {
   "cell_type": "code",
   "execution_count": 45,
   "id": "52e3beef-23ef-4ad2-9bed-b46ccc21cf4e",
   "metadata": {
    "tags": []
   },
   "outputs": [],
   "source": [
    "Lp_prob = pulp.LpProblem('UBC_Space_Allocation', pulp.LpMaximize)"
   ]
  },
  {
   "cell_type": "markdown",
   "id": "fc61d82f-9165-49fd-b403-0a16b72ec141",
   "metadata": {},
   "source": [
    "## Desision Variables"
   ]
  },
  {
   "cell_type": "code",
   "execution_count": 46,
   "id": "1f7e9aac-c4cf-45b1-8bd0-6440b4c442bd",
   "metadata": {
    "tags": []
   },
   "outputs": [],
   "source": [
    "x_1 = pulp.LpVariable(\"x_1\")\n",
    "x_2 = pulp.LpVariable(\"x_2\")\n",
    "x_3 = pulp.LpVariable(\"x_3\")\n",
    "x_4 = pulp.LpVariable(\"x_4\")\n",
    "x_5 = pulp.LpVariable(\"x_5\")\n",
    "x_6 = pulp.LpVariable(\"x_6\")\n",
    "x_7 = pulp.LpVariable(\"x_7\")\n",
    "x_8 = pulp.LpVariable(\"x_8\")\n",
    "x_9 = pulp.LpVariable(\"x_9\")\n",
    "x_10 = pulp.LpVariable(\"x_10\")\n",
    "x_11 = pulp.LpVariable(\"x_11\")\n",
    "x_12 = pulp.LpVariable(\"x_12\")\n",
    "x_13 = pulp.LpVariable(\"x_13\")\n",
    "x_14 = pulp.LpVariable(\"x_14\")\n",
    "x_15 = pulp.LpVariable(\"x_15\")\n",
    "x_16 = pulp.LpVariable(\"x_16\")\n",
    "x_17 = pulp.LpVariable(\"x_17\")\n",
    "x_18 = pulp.LpVariable(\"x_18\")\n",
    "x_19 = pulp.LpVariable(\"x_19\")\n",
    "x_20 = pulp.LpVariable(\"x_20\")\n",
    "x_21 = pulp.LpVariable(\"x_21\")\n",
    "x_22 = pulp.LpVariable(\"x_22\")\n",
    "x_23 = pulp.LpVariable(\"x_23\")\n",
    "x_24 = pulp.LpVariable(\"x_24\")\n",
    "x_25 = pulp.LpVariable(\"x_25\")\n",
    "x_26 = pulp.LpVariable(\"x_26\")\n",
    "x_27 = pulp.LpVariable(\"x_27\")\n",
    "x_28 = pulp.LpVariable(\"x_28\")\n",
    "x_29 = pulp.LpVariable(\"x_29\")\n",
    "x_30 = pulp.LpVariable(\"x_30\")\n",
    "x_31 = pulp.LpVariable(\"x_31\")\n",
    "x_32 = pulp.LpVariable(\"x_32\")\n",
    "x_33 = pulp.LpVariable(\"x_33\")\n",
    "x_34 = pulp.LpVariable(\"x_34\")\n",
    "x_35 = pulp.LpVariable(\"x_35\")\n",
    "x_36 = pulp.LpVariable(\"x_36\")\n",
    "x_37 = pulp.LpVariable(\"x_37\")\n",
    "x_38 = pulp.LpVariable(\"x_38\")\n",
    "x_39 = pulp.LpVariable(\"x_39\")\n",
    "x_40 = pulp.LpVariable(\"x_40\")\n",
    "x_41 = pulp.LpVariable(\"x_41\") "
   ]
  },
  {
   "cell_type": "markdown",
   "id": "f4b192fa-a482-4709-b1a0-304fe3b1dffe",
   "metadata": {},
   "source": [
    "## Objective function"
   ]
  },
  {
   "cell_type": "code",
   "execution_count": 47,
   "id": "d75e8d52-91b9-4e22-bbcc-f1cf931c6d1f",
   "metadata": {
    "tags": []
   },
   "outputs": [
    {
     "name": "stdout",
     "output_type": "stream",
     "text": [
      "UBC_Space_Allocation:\n",
      "MAXIMIZE\n",
      "144*x_1 + 893*x_10 + 416*x_11 + 440*x_12 + 50*x_13 + 580*x_14 + 263*x_15 + 147*x_16 + 160*x_17 + 633*x_18 + 617*x_19 + 228*x_2 + 571*x_20 + 581*x_21 + 555*x_22 + 150*x_23 + 1296*x_24 + 264*x_25 + 624*x_26 + 505*x_27 + 495*x_28 + 106*x_29 + 1545*x_3 + 519*x_30 + 482*x_31 + 662*x_32 + 204*x_34 + 479*x_35 + 1019*x_36 + 190*x_37 + 166*x_38 + 1605*x_39 + 186*x_4 + 163*x_40 + 427*x_41 + 41*x_5 + 394*x_6 + 3130*x_7 + 289*x_8 + 354*x_9 + 2244\n",
      "VARIABLES\n",
      "x_1 free Continuous\n",
      "x_10 free Continuous\n",
      "x_11 free Continuous\n",
      "x_12 free Continuous\n",
      "x_13 free Continuous\n",
      "x_14 free Continuous\n",
      "x_15 free Continuous\n",
      "x_16 free Continuous\n",
      "x_17 free Continuous\n",
      "x_18 free Continuous\n",
      "x_19 free Continuous\n",
      "x_2 free Continuous\n",
      "x_20 free Continuous\n",
      "x_21 free Continuous\n",
      "x_22 free Continuous\n",
      "x_23 free Continuous\n",
      "x_24 free Continuous\n",
      "x_25 free Continuous\n",
      "x_26 free Continuous\n",
      "x_27 free Continuous\n",
      "x_28 free Continuous\n",
      "x_29 free Continuous\n",
      "x_3 free Continuous\n",
      "x_30 free Continuous\n",
      "x_31 free Continuous\n",
      "x_32 free Continuous\n",
      "x_34 free Continuous\n",
      "x_35 free Continuous\n",
      "x_36 free Continuous\n",
      "x_37 free Continuous\n",
      "x_38 free Continuous\n",
      "x_39 free Continuous\n",
      "x_4 free Continuous\n",
      "x_40 free Continuous\n",
      "x_41 free Continuous\n",
      "x_5 free Continuous\n",
      "x_6 free Continuous\n",
      "x_7 free Continuous\n",
      "x_8 free Continuous\n",
      "x_9 free Continuous\n",
      "\n"
     ]
    }
   ],
   "source": [
    "Lp_prob += 144*x_1+228*x_2+1545*x_3+186*x_4+41*x_5+394*x_6+3130*x_7+289*x_8+354*x_9+893*x_10+416*x_11+440*x_12+50*x_13+580*x_14+263*x_15+147*x_16+160*x_17+633*x_18+617*x_19+571*x_20+581*x_21+555*x_22+150*x_23+1296*x_24+264*x_25+624*x_26+505*x_27+495*x_28+106*x_29+519*x_30+482*x_31+662*x_32+68*33+204*x_34+479*x_35+1019*x_36+190*x_37+166*x_38+1605*x_39+163*x_40+427*x_41\n",
    "print(Lp_prob)"
   ]
  },
  {
   "cell_type": "markdown",
   "id": "90015967-04c3-4d6e-923d-96cbf87967e7",
   "metadata": {},
   "source": [
    "## Constraints"
   ]
  },
  {
   "cell_type": "code",
   "execution_count": 48,
   "id": "c437dfdd-e0a1-4114-b58f-b637951ffa0b",
   "metadata": {
    "tags": []
   },
   "outputs": [],
   "source": [
    "# Capacities\n",
    "Lp_prob += 144*x_1+228*x_2+1545*x_3+186*x_4+41*x_5+394*x_6+3130*x_7+289*x_8+354*x_9+893*x_10+416*x_11+440*x_12+50*x_13+580*x_14+263*x_15+147*x_16+160*x_17+633*x_18+617*x_19+571*x_20+581*x_21+555*x_22+150*x_23+1296*x_24+264*x_25+624*x_26+505*x_27+495*x_28+106*x_29+519*x_30+482*x_31+662*x_32+68*33+204*x_34+479*x_35+1019*x_36+190*x_37+166*x_38+1605*x_39+163*x_40+427*x_41 <= 21677\n",
    "\n",
    "# Number of rooms - combined\n",
    "Lp_prob += x_1+5*x_2+28*x_3+4*x_4+2*x_5+4*x_6+60*x_7+6*x_8+3*x_9+6*x_10+x_11+5*x_12+x_13+3*x_14+5*x_15+3*x_16+x_17+9*x_18+8*x_19+4*x_20+6*x_21+17*x_22+2*x_23+16*x_24+5*x_25+5*x_26+4*x_27+7*x_28+x_29+8*x_30+7*x_31+21*x_32+x_33+8*x_34+3*x_35+19*x_36+6*x_37+6*x_38+26*x_39+4*x_40+2*x_41 <= 333\n",
    "\n",
    "# First year\n",
    "Lp_prob += 1708*x_1+3564*x_2+1390*x_3+976*x_5+329*x_6+439*x_7+238*x_11+2407*x_12+57*x_13 <= 10870\n",
    "# Second year\n",
    "Lp_prob += 1764*x_1+3680*x_2+1436*x_3+1008*x_5+340*x_6+453*x_7+245*x_11+2486*x_12+59*x_13 <= 11471\n",
    "# Third year\n",
    "Lp_prob += 1635*x_1+3412*x_2+1331*x_3+934*x_5+315*x_6+421*x_7+228*x_11+2304*x_12+54*x_13 <= 10634\n",
    "# Fourth year\n",
    "Lp_prob += 1434*x_1+2991*x_2+1167*x_3+241*x_4+819*x_5+227*x_6+369*x_7+200*x_11+2020*x_12+49*x_13 <= 9567\n",
    "# Graduate\n",
    "Lp_prob += 1524*x_1+3181*x_2+1241*x_3+247*x_4+871*x_5+294*x_6+85*x_7+392*x_8+700*x_9+4694*x_10+212*x_11+2148*x_12+51*x_13 <= 15640\n",
    "\n",
    "# Non-negative\n",
    "Lp_prob += x_1 >= 0\n",
    "Lp_prob += x_2 >= 0\n",
    "Lp_prob += x_3 >= 0\n",
    "Lp_prob += x_4 >= 0\n",
    "Lp_prob += x_5 >= 0\n",
    "Lp_prob += x_6 >= 0\n",
    "Lp_prob += x_7 >= 0\n",
    "Lp_prob += x_8 >= 0\n",
    "Lp_prob += x_9 >= 0\n",
    "Lp_prob += x_10 >= 0\n",
    "Lp_prob += x_11 >= 0\n",
    "Lp_prob += x_12 >= 0\n",
    "Lp_prob += x_13 >= 0\n",
    "Lp_prob += x_14 >= 0\n",
    "Lp_prob += x_15 >= 0\n",
    "Lp_prob += x_16 >= 0\n",
    "Lp_prob += x_17 >= 0\n",
    "Lp_prob += x_18 >= 0\n",
    "Lp_prob += x_19 >= 0\n",
    "Lp_prob += x_20 >= 0\n",
    "Lp_prob += x_21 >= 0\n",
    "Lp_prob += x_22 >= 0\n",
    "Lp_prob += x_23 >= 0\n",
    "Lp_prob += x_24 >= 0\n",
    "Lp_prob += x_25 >= 0\n",
    "Lp_prob += x_26 >= 0\n",
    "Lp_prob += x_27 >= 0\n",
    "Lp_prob += x_28 >= 0\n",
    "Lp_prob += x_29 >= 0\n",
    "Lp_prob += x_30 >= 0\n",
    "Lp_prob += x_31 >= 0\n",
    "Lp_prob += x_32 >= 0\n",
    "Lp_prob += x_33 >= 0\n",
    "Lp_prob += x_34 >= 0\n",
    "Lp_prob += x_35 >= 0\n",
    "Lp_prob += x_36 >= 0\n",
    "Lp_prob += x_37 >= 0\n",
    "Lp_prob += x_38 >= 0\n",
    "Lp_prob += x_39 >= 0\n",
    "Lp_prob += x_40 >= 0\n",
    "Lp_prob += x_41 >= 0\n",
    "\n",
    "# Num Rooms - singular\n",
    "Lp_prob += x_1 <= 1\n",
    "Lp_prob += x_2 <= 5\n",
    "Lp_prob += x_3 <= 28\n",
    "Lp_prob += x_4 <= 4\n",
    "Lp_prob += x_5 <= 2\n",
    "Lp_prob += x_6 <= 4\n",
    "Lp_prob += x_7 <= 60\n",
    "Lp_prob += x_8 <= 6\n",
    "Lp_prob += x_9 <= 3\n",
    "Lp_prob += x_10 <= 6\n",
    "Lp_prob += x_11 <= 1\n",
    "Lp_prob += x_12 <= 5\n",
    "Lp_prob += x_13 <= 1\n",
    "Lp_prob += x_14 <= 3\n",
    "Lp_prob += x_15 <= 5\n",
    "Lp_prob += x_16 <= 3\n",
    "Lp_prob += x_17 <= 1\n",
    "Lp_prob += x_18 <= 9\n",
    "Lp_prob += x_19 <= 8\n",
    "Lp_prob += x_20 <= 4\n",
    "Lp_prob += x_21 <= 6\n",
    "Lp_prob += x_22 <= 17\n",
    "Lp_prob += x_23 <= 2\n",
    "Lp_prob += x_24 <= 16\n",
    "Lp_prob += x_25 <= 5\n",
    "Lp_prob += x_26 <= 5\n",
    "Lp_prob += x_27 <= 4\n",
    "Lp_prob += x_28 <= 7\n",
    "Lp_prob += x_29 <= 1\n",
    "Lp_prob += x_30 <= 8\n",
    "Lp_prob += x_31 <= 7\n",
    "Lp_prob += x_32 <= 21\n",
    "Lp_prob += x_33 <= 1\n",
    "Lp_prob += x_34 <= 8\n",
    "Lp_prob += x_35 <= 3\n",
    "Lp_prob += x_36 <= 19\n",
    "Lp_prob += x_37 <= 6\n",
    "Lp_prob += x_38 <= 6\n",
    "Lp_prob += x_39 <= 26\n",
    "Lp_prob += x_40 <= 4\n",
    "Lp_prob += x_41 <= 2"
   ]
  },
  {
   "cell_type": "markdown",
   "id": "77d97099-596e-46e9-bfe3-89fd3fe801e4",
   "metadata": {},
   "source": [
    "## Solve Problem"
   ]
  },
  {
   "cell_type": "code",
   "execution_count": 49,
   "id": "857bf86f-bf4f-4e67-a6f3-1ed772ed70d0",
   "metadata": {
    "tags": []
   },
   "outputs": [
    {
     "name": "stdout",
     "output_type": "stream",
     "text": [
      "GLPSOL--GLPK LP/MIP Solver 5.0\n",
      "Parameter(s) specified in the command line:\n",
      " --cpxlp /tmp/bc161ddaba9b4172a6fc080234c1578b-pulp.lp -o /tmp/bc161ddaba9b4172a6fc080234c1578b-pulp.sol\n",
      "Reading problem data from '/tmp/bc161ddaba9b4172a6fc080234c1578b-pulp.lp'...\n",
      "89 rows, 41 columns, 213 non-zeros\n",
      "156 lines were read\n",
      "GLPK Simplex Optimizer 5.0\n",
      "89 rows, 41 columns, 213 non-zeros\n",
      "Preprocessing...\n",
      "7 rows, 41 columns, 131 non-zeros\n",
      "Scaling...\n",
      " A: min|aij| =  1.000e+00  max|aij| =  4.694e+03  ratio =  4.694e+03\n",
      "GM: min|aij| =  1.746e-01  max|aij| =  5.727e+00  ratio =  3.280e+01\n",
      "EQ: min|aij| =  3.049e-02  max|aij| =  1.000e+00  ratio =  3.280e+01\n",
      "Constructing initial basis...\n",
      "Size of triangular part is 7\n",
      "*     0: obj =  -0.000000000e+00 inf =   0.000e+00 (40)\n",
      "*    11: obj =   1.943300000e+04 inf =   0.000e+00 (0)\n",
      "OPTIMAL LP SOLUTION FOUND\n",
      "Time used:   0.0 secs\n",
      "Memory used: 0.1 Mb (96800 bytes)\n",
      "Writing basic solution to '/tmp/bc161ddaba9b4172a6fc080234c1578b-pulp.sol'...\n"
     ]
    },
    {
     "data": {
      "text/plain": [
       "'Optimal'"
      ]
     },
     "execution_count": 49,
     "metadata": {},
     "output_type": "execute_result"
    }
   ],
   "source": [
    "Lp_prob.solve()\n",
    "pulp.LpStatus[Lp_prob.status]"
   ]
  },
  {
   "cell_type": "code",
   "execution_count": 50,
   "id": "30c6ccc6-ba64-4910-ad03-d6c61798f127",
   "metadata": {
    "tags": []
   },
   "outputs": [
    {
     "name": "stdout",
     "output_type": "stream",
     "text": [
      "x_1  =  0.0\n",
      "x_10  =  0.0\n",
      "x_11  =  1.0\n",
      "x_12  =  0.0\n",
      "x_13  =  0.0\n",
      "x_14  =  3.0\n",
      "x_15  =  0.0\n",
      "x_16  =  0.0\n",
      "x_17  =  1.0\n",
      "x_18  =  3.08057\n",
      "x_19  =  8.0\n",
      "x_2  =  0.0\n",
      "x_20  =  0.0\n",
      "x_21  =  6.0\n",
      "x_22  =  0.0\n",
      "x_23  =  2.0\n",
      "x_24  =  0.0\n",
      "x_25  =  0.0\n",
      "x_26  =  0.0\n",
      "x_27  =  4.0\n",
      "x_28  =  7.0\n",
      "x_29  =  1.0\n",
      "x_3  =  0.0\n",
      "x_30  =  0.0\n",
      "x_31  =  0.0\n",
      "x_32  =  0.0\n",
      "x_33  =  0.0\n",
      "x_34  =  0.0\n",
      "x_35  =  0.0\n",
      "x_36  =  0.0\n",
      "x_37  =  0.0\n",
      "x_38  =  0.0\n",
      "x_39  =  0.0\n",
      "x_4  =  0.0\n",
      "x_40  =  0.0\n",
      "x_41  =  2.0\n",
      "x_5  =  0.0\n",
      "x_6  =  0.0\n",
      "x_7  =  0.0\n",
      "x_8  =  0.0\n",
      "x_9  =  0.0\n",
      "z = 21677.000809999998\n"
     ]
    }
   ],
   "source": [
    "for variable in Lp_prob.variables(): \n",
    "    print(variable.name, \" = \", variable.varValue)\n",
    "print(\"z =\", pulp.value(Lp_prob.objective))"
   ]
  }
 ],
 "metadata": {
  "kernelspec": {
   "display_name": "Python 3 (ipykernel)",
   "language": "python",
   "name": "python3"
  },
  "language_info": {
   "codemirror_mode": {
    "name": "ipython",
    "version": 3
   },
   "file_extension": ".py",
   "mimetype": "text/x-python",
   "name": "python",
   "nbconvert_exporter": "python",
   "pygments_lexer": "ipython3",
   "version": "3.10.9"
  }
 },
 "nbformat": 4,
 "nbformat_minor": 5
}
